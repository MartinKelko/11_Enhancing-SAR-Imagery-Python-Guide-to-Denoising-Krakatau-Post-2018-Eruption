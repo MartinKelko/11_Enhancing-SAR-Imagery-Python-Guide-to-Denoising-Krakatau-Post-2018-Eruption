{
 "cells": [
  {
   "cell_type": "code",
   "execution_count": 9,
   "id": "a81bed23-9818-4592-a139-f66436a4bf0b",
   "metadata": {},
   "outputs": [
    {
     "name": "stdout",
     "output_type": "stream",
     "text": [
      "Defaulting to user installation because normal site-packages is not writeable\n",
      "Requirement already satisfied: deepdespeckling in c:\\users\\marti\\appdata\\roaming\\python\\python312\\site-packages (0.8)\n",
      "Requirement already satisfied: tensorflow in c:\\users\\marti\\appdata\\roaming\\python\\python312\\site-packages (2.17.0)\n",
      "Requirement already satisfied: pillow in c:\\users\\marti\\appdata\\roaming\\python\\python312\\site-packages (10.2.0)\n",
      "Requirement already satisfied: matplotlib in c:\\users\\marti\\appdata\\roaming\\python\\python312\\site-packages (3.8.3)\n",
      "Requirement already satisfied: numpy in c:\\users\\marti\\appdata\\roaming\\python\\python312\\site-packages (from deepdespeckling) (1.26.4)\n",
      "Requirement already satisfied: scipy in c:\\users\\marti\\appdata\\roaming\\python\\python312\\site-packages (from deepdespeckling) (1.14.0)\n",
      "Requirement already satisfied: torch in c:\\users\\marti\\appdata\\roaming\\python\\python312\\site-packages (from deepdespeckling) (2.3.1)\n",
      "Requirement already satisfied: opencv-python in c:\\users\\marti\\appdata\\roaming\\python\\python312\\site-packages (from deepdespeckling) (4.10.0.84)\n",
      "Requirement already satisfied: tqdm in c:\\users\\marti\\appdata\\roaming\\python\\python312\\site-packages (from deepdespeckling) (4.66.2)\n",
      "Requirement already satisfied: tensorflow-intel==2.17.0 in c:\\users\\marti\\appdata\\roaming\\python\\python312\\site-packages (from tensorflow) (2.17.0)\n",
      "Requirement already satisfied: absl-py>=1.0.0 in c:\\users\\marti\\appdata\\roaming\\python\\python312\\site-packages (from tensorflow-intel==2.17.0->tensorflow) (2.1.0)\n",
      "Requirement already satisfied: astunparse>=1.6.0 in c:\\users\\marti\\appdata\\roaming\\python\\python312\\site-packages (from tensorflow-intel==2.17.0->tensorflow) (1.6.3)\n",
      "Requirement already satisfied: flatbuffers>=24.3.25 in c:\\users\\marti\\appdata\\roaming\\python\\python312\\site-packages (from tensorflow-intel==2.17.0->tensorflow) (24.3.25)\n",
      "Requirement already satisfied: gast!=0.5.0,!=0.5.1,!=0.5.2,>=0.2.1 in c:\\users\\marti\\appdata\\roaming\\python\\python312\\site-packages (from tensorflow-intel==2.17.0->tensorflow) (0.6.0)\n",
      "Requirement already satisfied: google-pasta>=0.1.1 in c:\\users\\marti\\appdata\\roaming\\python\\python312\\site-packages (from tensorflow-intel==2.17.0->tensorflow) (0.2.0)\n",
      "Requirement already satisfied: h5py>=3.10.0 in c:\\users\\marti\\appdata\\roaming\\python\\python312\\site-packages (from tensorflow-intel==2.17.0->tensorflow) (3.11.0)\n",
      "Requirement already satisfied: libclang>=13.0.0 in c:\\users\\marti\\appdata\\roaming\\python\\python312\\site-packages (from tensorflow-intel==2.17.0->tensorflow) (18.1.1)\n",
      "Requirement already satisfied: ml-dtypes<0.5.0,>=0.3.1 in c:\\users\\marti\\appdata\\roaming\\python\\python312\\site-packages (from tensorflow-intel==2.17.0->tensorflow) (0.4.0)\n",
      "Requirement already satisfied: opt-einsum>=2.3.2 in c:\\users\\marti\\appdata\\roaming\\python\\python312\\site-packages (from tensorflow-intel==2.17.0->tensorflow) (3.3.0)\n",
      "Requirement already satisfied: packaging in c:\\users\\marti\\appdata\\roaming\\python\\python312\\site-packages (from tensorflow-intel==2.17.0->tensorflow) (23.2)\n",
      "Requirement already satisfied: protobuf!=4.21.0,!=4.21.1,!=4.21.2,!=4.21.3,!=4.21.4,!=4.21.5,<5.0.0dev,>=3.20.3 in c:\\users\\marti\\appdata\\roaming\\python\\python312\\site-packages (from tensorflow-intel==2.17.0->tensorflow) (4.25.3)\n",
      "Requirement already satisfied: requests<3,>=2.21.0 in c:\\users\\marti\\appdata\\roaming\\python\\python312\\site-packages (from tensorflow-intel==2.17.0->tensorflow) (2.31.0)\n",
      "Requirement already satisfied: setuptools in c:\\users\\marti\\appdata\\roaming\\python\\python312\\site-packages (from tensorflow-intel==2.17.0->tensorflow) (70.0.0)\n",
      "Requirement already satisfied: six>=1.12.0 in c:\\users\\marti\\appdata\\roaming\\python\\python312\\site-packages (from tensorflow-intel==2.17.0->tensorflow) (1.16.0)\n",
      "Requirement already satisfied: termcolor>=1.1.0 in c:\\users\\marti\\appdata\\roaming\\python\\python312\\site-packages (from tensorflow-intel==2.17.0->tensorflow) (2.4.0)\n",
      "Requirement already satisfied: typing-extensions>=3.6.6 in c:\\users\\marti\\appdata\\roaming\\python\\python312\\site-packages (from tensorflow-intel==2.17.0->tensorflow) (4.10.0)\n",
      "Requirement already satisfied: wrapt>=1.11.0 in c:\\users\\marti\\appdata\\roaming\\python\\python312\\site-packages (from tensorflow-intel==2.17.0->tensorflow) (1.16.0)\n",
      "Requirement already satisfied: grpcio<2.0,>=1.24.3 in c:\\users\\marti\\appdata\\roaming\\python\\python312\\site-packages (from tensorflow-intel==2.17.0->tensorflow) (1.64.1)\n",
      "Requirement already satisfied: tensorboard<2.18,>=2.17 in c:\\users\\marti\\appdata\\roaming\\python\\python312\\site-packages (from tensorflow-intel==2.17.0->tensorflow) (2.17.0)\n",
      "Requirement already satisfied: keras>=3.2.0 in c:\\users\\marti\\appdata\\roaming\\python\\python312\\site-packages (from tensorflow-intel==2.17.0->tensorflow) (3.4.1)\n",
      "Requirement already satisfied: contourpy>=1.0.1 in c:\\users\\marti\\appdata\\roaming\\python\\python312\\site-packages (from matplotlib) (1.2.0)\n",
      "Requirement already satisfied: cycler>=0.10 in c:\\users\\marti\\appdata\\roaming\\python\\python312\\site-packages (from matplotlib) (0.12.1)\n",
      "Requirement already satisfied: fonttools>=4.22.0 in c:\\users\\marti\\appdata\\roaming\\python\\python312\\site-packages (from matplotlib) (4.50.0)\n",
      "Requirement already satisfied: kiwisolver>=1.3.1 in c:\\users\\marti\\appdata\\roaming\\python\\python312\\site-packages (from matplotlib) (1.4.5)\n",
      "Requirement already satisfied: pyparsing>=2.3.1 in c:\\users\\marti\\appdata\\roaming\\python\\python312\\site-packages (from matplotlib) (3.1.2)\n",
      "Requirement already satisfied: python-dateutil>=2.7 in c:\\users\\marti\\appdata\\roaming\\python\\python312\\site-packages (from matplotlib) (2.9.0.post0)\n",
      "Requirement already satisfied: filelock in c:\\users\\marti\\appdata\\roaming\\python\\python312\\site-packages (from torch->deepdespeckling) (3.13.1)\n",
      "Requirement already satisfied: sympy in c:\\users\\marti\\appdata\\roaming\\python\\python312\\site-packages (from torch->deepdespeckling) (1.13.0)\n",
      "Requirement already satisfied: networkx in c:\\users\\marti\\appdata\\roaming\\python\\python312\\site-packages (from torch->deepdespeckling) (3.3)\n",
      "Requirement already satisfied: jinja2 in c:\\users\\marti\\appdata\\roaming\\python\\python312\\site-packages (from torch->deepdespeckling) (3.1.3)\n",
      "Requirement already satisfied: fsspec in c:\\users\\marti\\appdata\\roaming\\python\\python312\\site-packages (from torch->deepdespeckling) (2024.6.1)\n",
      "Requirement already satisfied: mkl<=2021.4.0,>=2021.1.1 in c:\\users\\marti\\appdata\\roaming\\python\\python312\\site-packages (from torch->deepdespeckling) (2021.4.0)\n",
      "Requirement already satisfied: colorama in c:\\users\\marti\\appdata\\roaming\\python\\python312\\site-packages (from tqdm->deepdespeckling) (0.4.6)\n",
      "Requirement already satisfied: wheel<1.0,>=0.23.0 in c:\\users\\marti\\appdata\\roaming\\python\\python312\\site-packages (from astunparse>=1.6.0->tensorflow-intel==2.17.0->tensorflow) (0.43.0)\n",
      "Requirement already satisfied: rich in c:\\users\\marti\\appdata\\roaming\\python\\python312\\site-packages (from keras>=3.2.0->tensorflow-intel==2.17.0->tensorflow) (13.7.1)\n",
      "Requirement already satisfied: namex in c:\\users\\marti\\appdata\\roaming\\python\\python312\\site-packages (from keras>=3.2.0->tensorflow-intel==2.17.0->tensorflow) (0.0.8)\n",
      "Requirement already satisfied: optree in c:\\users\\marti\\appdata\\roaming\\python\\python312\\site-packages (from keras>=3.2.0->tensorflow-intel==2.17.0->tensorflow) (0.12.1)\n",
      "Requirement already satisfied: intel-openmp==2021.* in c:\\users\\marti\\appdata\\roaming\\python\\python312\\site-packages (from mkl<=2021.4.0,>=2021.1.1->torch->deepdespeckling) (2021.4.0)\n",
      "Requirement already satisfied: tbb==2021.* in c:\\users\\marti\\appdata\\roaming\\python\\python312\\site-packages (from mkl<=2021.4.0,>=2021.1.1->torch->deepdespeckling) (2021.13.0)\n",
      "Requirement already satisfied: charset-normalizer<4,>=2 in c:\\users\\marti\\appdata\\roaming\\python\\python312\\site-packages (from requests<3,>=2.21.0->tensorflow-intel==2.17.0->tensorflow) (3.3.2)\n",
      "Requirement already satisfied: idna<4,>=2.5 in c:\\users\\marti\\appdata\\roaming\\python\\python312\\site-packages (from requests<3,>=2.21.0->tensorflow-intel==2.17.0->tensorflow) (3.6)\n",
      "Requirement already satisfied: urllib3<3,>=1.21.1 in c:\\users\\marti\\appdata\\roaming\\python\\python312\\site-packages (from requests<3,>=2.21.0->tensorflow-intel==2.17.0->tensorflow) (2.2.1)\n",
      "Requirement already satisfied: certifi>=2017.4.17 in c:\\users\\marti\\appdata\\roaming\\python\\python312\\site-packages (from requests<3,>=2.21.0->tensorflow-intel==2.17.0->tensorflow) (2024.2.2)\n",
      "Requirement already satisfied: markdown>=2.6.8 in c:\\users\\marti\\appdata\\roaming\\python\\python312\\site-packages (from tensorboard<2.18,>=2.17->tensorflow-intel==2.17.0->tensorflow) (3.6)\n",
      "Requirement already satisfied: tensorboard-data-server<0.8.0,>=0.7.0 in c:\\users\\marti\\appdata\\roaming\\python\\python312\\site-packages (from tensorboard<2.18,>=2.17->tensorflow-intel==2.17.0->tensorflow) (0.7.2)\n",
      "Requirement already satisfied: werkzeug>=1.0.1 in c:\\users\\marti\\appdata\\roaming\\python\\python312\\site-packages (from tensorboard<2.18,>=2.17->tensorflow-intel==2.17.0->tensorflow) (3.0.1)\n",
      "Requirement already satisfied: MarkupSafe>=2.0 in c:\\users\\marti\\appdata\\roaming\\python\\python312\\site-packages (from jinja2->torch->deepdespeckling) (2.1.5)\n",
      "Requirement already satisfied: mpmath<1.4,>=1.1.0 in c:\\users\\marti\\appdata\\roaming\\python\\python312\\site-packages (from sympy->torch->deepdespeckling) (1.3.0)\n",
      "Requirement already satisfied: markdown-it-py>=2.2.0 in c:\\users\\marti\\appdata\\roaming\\python\\python312\\site-packages (from rich->keras>=3.2.0->tensorflow-intel==2.17.0->tensorflow) (3.0.0)\n",
      "Requirement already satisfied: pygments<3.0.0,>=2.13.0 in c:\\users\\marti\\appdata\\roaming\\python\\python312\\site-packages (from rich->keras>=3.2.0->tensorflow-intel==2.17.0->tensorflow) (2.17.2)\n",
      "Requirement already satisfied: mdurl~=0.1 in c:\\users\\marti\\appdata\\roaming\\python\\python312\\site-packages (from markdown-it-py>=2.2.0->rich->keras>=3.2.0->tensorflow-intel==2.17.0->tensorflow) (0.1.2)\n",
      "Note: you may need to restart the kernel to use updated packages.\n"
     ]
    },
    {
     "name": "stderr",
     "output_type": "stream",
     "text": [
      "\n",
      "[notice] A new release of pip is available: 24.0 -> 24.1.2\n",
      "[notice] To update, run: python.exe -m pip install --upgrade pip\n"
     ]
    }
   ],
   "source": [
    "pip install deepdespeckling tensorflow pillow matplotlib"
   ]
  },
  {
   "cell_type": "code",
   "execution_count": 11,
   "id": "43398bc9-34e7-4c1c-a7fe-a62149e36076",
   "metadata": {},
   "outputs": [
    {
     "name": "stdout",
     "output_type": "stream",
     "text": [
      "Note: you may need to restart the kernel to use updated packages.Defaulting to user installation because normal site-packages is not writeable\n",
      "Requirement already satisfied: pip in c:\\program files\\python312\\lib\\site-packages (24.0)\n",
      "Collecting pip\n",
      "  Downloading pip-24.1.2-py3-none-any.whl.metadata (3.6 kB)\n",
      "Downloading pip-24.1.2-py3-none-any.whl (1.8 MB)\n",
      "   ---------------------------------------- 0.0/1.8 MB ? eta -:--:--\n",
      "   ---------------------------------------- 0.0/1.8 MB ? eta -:--:--\n",
      "    --------------------------------------- 0.0/1.8 MB 660.6 kB/s eta 0:00:03\n",
      "   - -------------------------------------- 0.1/1.8 MB 919.0 kB/s eta 0:00:02\n",
      "   ----- ---------------------------------- 0.3/1.8 MB 2.0 MB/s eta 0:00:01\n",
      "   --------- ------------------------------ 0.4/1.8 MB 2.7 MB/s eta 0:00:01\n",
      "   --------- ------------------------------ 0.4/1.8 MB 2.7 MB/s eta 0:00:01\n",
      "   ------------------ --------------------- 0.8/1.8 MB 3.1 MB/s eta 0:00:01\n",
      "   ------------------------- -------------- 1.2/1.8 MB 3.7 MB/s eta 0:00:01\n",
      "   ---------------------------- ----------- 1.3/1.8 MB 3.6 MB/s eta 0:00:01\n",
      "   --------------------------------- ------ 1.5/1.8 MB 3.7 MB/s eta 0:00:01\n",
      "   ---------------------------------------  1.8/1.8 MB 3.9 MB/s eta 0:00:01\n",
      "   ---------------------------------------- 1.8/1.8 MB 3.7 MB/s eta 0:00:00\n",
      "Installing collected packages: pip\n",
      "Successfully installed pip-24.1.2\n",
      "\n"
     ]
    },
    {
     "name": "stderr",
     "output_type": "stream",
     "text": [
      "  WARNING: The scripts pip.exe, pip3.12.exe and pip3.exe are installed in 'C:\\Users\\marti\\AppData\\Roaming\\Python\\Python312\\Scripts' which is not on PATH.\n",
      "  Consider adding this directory to PATH or, if you prefer to suppress this warning, use --no-warn-script-location.\n"
     ]
    }
   ],
   "source": [
    "pip install --upgrade pip"
   ]
  },
  {
   "cell_type": "code",
   "execution_count": 1,
   "id": "9ed799ee-8d95-45c9-a0c0-15e1842919c4",
   "metadata": {},
   "outputs": [
    {
     "data": {
      "text/html": [
       "<img src=\"C:\\Users\\marti\\PycharmProjects\\11 SAR_Krakatau_denoising\\denoised_krakatau.gif\" width=\"800\" height=\"600\">"
      ],
      "text/plain": [
       "<IPython.core.display.HTML object>"
      ]
     },
     "metadata": {},
     "output_type": "display_data"
    }
   ],
   "source": [
    "import numpy as np\n",
    "import matplotlib.pyplot as plt\n",
    "from PIL import Image, ImageSequence\n",
    "import cv2\n",
    "from IPython.display import display, HTML\n",
    "\n",
    "# Load the SAR\n",
    "gif_path = r'C:\\Users\\marti\\PycharmProjects\\11 SAR_Krakatau_denoising\\krakatau.gif'\n",
    "sar_gif = Image.open(gif_path)\n",
    "\n",
    "# Extract frames from the GIF\n",
    "frames = [frame.copy().convert('RGB') for frame in ImageSequence.Iterator(sar_gif)]\n",
    "frame_arrays = [np.array(frame) for frame in frames]\n",
    "\n",
    "# Function to denoise a single frame using OpenCV\n",
    "def denoise_frame(frame_array):\n",
    "    # Convert RGB image to YUV color space\n",
    "    yuv_image = cv2.cvtColor(frame_array, cv2.COLOR_RGB2YUV)\n",
    "    \n",
    "    # Denoise the Y (luminance) channel\n",
    "    y_channel = yuv_image[:, :, 0]\n",
    "    y_channel_denoised = cv2.fastNlMeansDenoising(y_channel, None, 30, 7, 21)\n",
    "    yuv_image[:, :, 0] = y_channel_denoised\n",
    "    \n",
    "    # Convert back to RGB color space\n",
    "    denoised_frame = cv2.cvtColor(yuv_image, cv2.COLOR_YUV2RGB)\n",
    "    return denoised_frame\n",
    "\n",
    "# Denoise all frames\n",
    "denoised_frames = [denoise_frame(frame) for frame in frame_arrays]\n",
    "\n",
    "# Convert denoised frames back to PIL images\n",
    "denoised_pil_frames = [Image.fromarray(frame) for frame in denoised_frames]\n",
    "\n",
    "# Save the denoised frames as a new GIF\n",
    "denoised_gif_path = r'C:\\Users\\marti\\PycharmProjects\\11 SAR_Krakatau_denoising\\denoised_krakatau.gif'  # Update this with the desired output path\n",
    "denoised_pil_frames[0].save(denoised_gif_path, save_all=True, append_images=denoised_pil_frames[1:], loop=0, duration=sar_gif.info['duration'])\n",
    "\n",
    "# Display only the denoised GIF with increased size\n",
    "html_code = f'<img src=\"{denoised_gif_path}\" width=\"800\" height=\"600\">'\n",
    "display(HTML(html_code))"
   ]
  },
  {
   "cell_type": "code",
   "execution_count": null,
   "id": "daa347b9-7555-4327-acc2-16af0ce42aa3",
   "metadata": {},
   "outputs": [],
   "source": []
  }
 ],
 "metadata": {
  "kernelspec": {
   "display_name": "Python 3 (ipykernel)",
   "language": "python",
   "name": "python3"
  },
  "language_info": {
   "codemirror_mode": {
    "name": "ipython",
    "version": 3
   },
   "file_extension": ".py",
   "mimetype": "text/x-python",
   "name": "python",
   "nbconvert_exporter": "python",
   "pygments_lexer": "ipython3",
   "version": "3.12.2"
  }
 },
 "nbformat": 4,
 "nbformat_minor": 5
}
